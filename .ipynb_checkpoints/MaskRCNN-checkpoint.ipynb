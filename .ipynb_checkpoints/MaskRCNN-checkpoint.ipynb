{
 "cells": [
  {
   "cell_type": "markdown",
   "metadata": {},
   "source": [
    "# TRAINING"
   ]
  },
  {
   "cell_type": "code",
   "execution_count": null,
   "metadata": {
    "colab": {
     "base_uri": "https://localhost:8080/"
    },
    "id": "UoAlafYGpsJ1",
    "outputId": "c5bdc53a-dba9-4757-8cfd-0f786bf041f5"
   },
   "outputs": [],
   "source": [
    "# Sources\n",
    "# https://github.com/jackfrost1411/MaskRCNN\n",
    "# https://github.com/matterport/Mask_RCNN\n",
    "# https://github.com/AarohiSingla/Mask-RCNN-on-Custom-Dataset-2classes-\n",
    "\n",
    "# Requirements\n",
    "# !pip install keras==2.2.5\n",
    "# !pip install tensorflow==1.15.0\n",
    "# download pretrained coco weights from: https://github.com/matterport/Mask_RCNN/releases/download/v2.0/mask_rcnn_coco.h5\n",
    "\n",
    "# for tensorboard, try\n",
    "# tensorboard --logdir=\"./logs\" --host=localhost"
   ]
  },
  {
   "cell_type": "code",
   "execution_count": null,
   "metadata": {
    "colab": {
     "base_uri": "https://localhost:8080/"
    },
    "id": "ovgSwpg3hsea",
    "outputId": "7b3cb19b-d680-4040-ea66-ef4b25f0b3d0"
   },
   "outputs": [],
   "source": [
    "import os\n",
    "import sys\n",
    "import json\n",
    "import datetime\n",
    "import numpy as np\n",
    "import skimage.draw\n",
    "import cv2\n",
    "from mrcnn.visualize import display_instances\n",
    "import matplotlib.pyplot as plt\n",
    "\n",
    "# Root directory of the project\n",
    "ROOT_DIR = os.path.abspath(\"./\")\n",
    "DATA_DIR = os.path.abspath(\"./dataset/\")\n",
    "\n",
    "# Import Mask RCNN\n",
    "sys.path.append(ROOT_DIR)  # To find local version of the library\n",
    "from mrcnn.config import Config\n",
    "from mrcnn import model as modellib, utils\n",
    "\n",
    "# Path to trained weights file\n",
    "COCO_WEIGHTS_PATH = os.path.join(ROOT_DIR, \"mask_rcnn_coco.h5\")\n",
    "\n",
    "# Directory to save logs and model checkpoints, if not provided\n",
    "# through the command line argument --logs\n",
    "DEFAULT_LOGS_DIR = os.path.join(ROOT_DIR, \"logs\")"
   ]
  },
  {
   "cell_type": "code",
   "execution_count": null,
   "metadata": {
    "id": "plbvJ9-ujTeg"
   },
   "outputs": [],
   "source": [
    "class CustomConfig(Config):\n",
    "    \"\"\"Configuration for training on the toy  dataset.\n",
    "    Derives from the base Config class and overrides some values.\n",
    "    \"\"\"\n",
    "    # Give the configuration a recognizable name\n",
    "    NAME = \"object\"\n",
    "\n",
    "    # We use a GPU with 12GB memory, which can fit two images.\n",
    "    # Adjust down if you use a smaller GPU.\n",
    "    IMAGES_PER_GPU = 1\n",
    "\n",
    "    # Number of classes (including background)\n",
    "    NUM_CLASSES = 1 + 3  # Background + griffin + lion + serpent\n",
    "\n",
    "    # Number of training steps per epoch\n",
    "    STEPS_PER_EPOCH = 180 # train_size // batch_size ( = #gpu * images_per_gpu)\n",
    "    \n",
    "    VALIDATION_STEPS = 60\n",
    "\n",
    "    # Skip detections with < 90% confidence\n",
    "    DETECTION_MIN_CONFIDENCE = 0.8"
   ]
  },
  {
   "cell_type": "code",
   "execution_count": null,
   "metadata": {
    "id": "Va-AE4S1kBd7"
   },
   "outputs": [],
   "source": [
    "class CustomDataset(utils.Dataset):\n",
    "\n",
    "    def load_custom(self, dataset_dir, subset):\n",
    "        \"\"\"Load a subset of the Dog-Cat dataset.\n",
    "        dataset_dir: Root directory of the dataset.\n",
    "        subset: Subset to load: train or val\n",
    "        \"\"\"\n",
    "        \n",
    "        ################\n",
    "        ### MODIFIED ###\n",
    "        ################\n",
    "        \n",
    "        # TODO set annotation type: \"bbox\" or \"polygon\"\n",
    "        annotation_type = \"bbox\"\n",
    "        \n",
    "        # important: use same ids as in your annotation file\n",
    "        self.add_class(\"object\", 1, \"griffin\")\n",
    "        self.add_class(\"object\", 2, \"serpent\")\n",
    "        self.add_class(\"object\", 3, \"lion\")\n",
    "\n",
    "        assert subset in [\"train\", \"val\", \"test\"]\n",
    "        dataset_dir = os.path.join(dataset_dir, subset)\n",
    "\n",
    "        annotations1 = json.load(open(os.path.join(dataset_dir, \"instances_default.json\")))\n",
    "\n",
    "        # Skip empty annotations\n",
    "        annotations = [a for a in annotations1['annotations'] if a['segmentation']]\n",
    "\n",
    "        name_dict = {\"Griffin\": 1, \"Serpent\": 2, \"Lion\": 3} \n",
    "\n",
    "        for a in annotations:\n",
    "            if annotation_type == \"polygon\":\n",
    "                polygons_all = a['segmentation'][0]\n",
    "                polygons = {'name': 'polygon', 'x_points': polygons_all[0::2], 'y_points': polygons_all[1::2]}\n",
    "                annotation_def = polygons\n",
    "            else: # annotation_type == \"bounding box\"\n",
    "                rectangle_all = a['bbox']\n",
    "                # change [x, y, width, height] of bbox to four coordinates for bounding box\n",
    "                rec_x = [rectangle_all[0], rectangle_all[0]+rectangle_all[2], rectangle_all[0]+rectangle_all[2], rectangle_all[0]]\n",
    "                rec_y = [rectangle_all[1], rectangle_all[1], rectangle_all[1]+rectangle_all[3], rectangle_all[1]+rectangle_all[3]]\n",
    "                rectangle = {'name': 'bbox', 'x_points': rec_x, 'y_points': rec_y }\n",
    "                annotation_def = rectangle\n",
    "            objects = [a['category_id']]\n",
    "\n",
    "            for img in annotations1['images']:\n",
    "                if a['image_id'] == img['id']:\n",
    "                    height = img['height']\n",
    "                    width = img['width']\n",
    "                    path_name = os.path.join(dataset_dir, img['file_name'])\n",
    "                    image_id = str(img['id'])\n",
    "                    break\n",
    "\n",
    "            self.add_image(\n",
    "                \"object\",  # for a single class just add the name here\n",
    "                image_id=image_id,\n",
    "                path=path_name,\n",
    "                width=width, height=height,\n",
    "                annotation=[annotation_def],\n",
    "                num_ids=objects\n",
    "                )\n",
    "            \n",
    "        ################\n",
    "        ################\n",
    "\n",
    "\n",
    "    def load_mask(self, image_id):\n",
    "        \"\"\"Generate instance masks for an image.\n",
    "       Returns:\n",
    "        masks: A bool array of shape [height, width, instance count] with\n",
    "            one mask per instance.\n",
    "        class_ids: a 1D array of class IDs of the instance masks.\n",
    "        \"\"\"\n",
    "        # If not a Dog-Cat dataset image, delegate to parent class.\n",
    "        image_info = self.image_info[image_id]\n",
    "        if image_info[\"source\"] != \"object\":\n",
    "            return super(self.__class__, self).load_mask(image_id)\n",
    "\n",
    "        # Convert polygons to a bitmap mask of shape\n",
    "        # [height, width, instance_count]\n",
    "        info = self.image_info[image_id]\n",
    "        if info[\"source\"] != \"object\":\n",
    "            return super(self.__class__, self).load_mask(image_id)\n",
    "        num_ids = info['num_ids']\n",
    "        mask = np.zeros([info[\"height\"], info[\"width\"], len(info[\"annotation\"])],\n",
    "                        dtype=np.uint8)\n",
    "\n",
    "        for i, p in enumerate(info[\"annotation\"]):\n",
    "            # Get indexes of pixels inside the polygon and set them to 1\n",
    "            # Bbox will also be drawn using draw.polygon (with four coordinates) as it makes no difference\n",
    "            rr, cc = skimage.draw.polygon(p['y_points'], p['x_points'])\n",
    "            mask[rr, cc, i] = 1\n",
    "\n",
    "\n",
    "        # Return mask, and array of class IDs of each instance. Since we have\n",
    "        # one class ID only, we return an array of 1s\n",
    "        # Map class names to class IDs.\n",
    "        num_ids = np.array(num_ids, dtype=np.int32)\n",
    "        return mask, num_ids #np.ones([mask.shape[-1]], dtype=np.int32)\n",
    "\n",
    "    def image_reference(self, image_id):\n",
    "        \"\"\"Return the path of the image.\"\"\"\n",
    "        info = self.image_info[image_id]\n",
    "        if info[\"source\"] == \"object\":\n",
    "            return info[\"path\"]\n",
    "        else:\n",
    "            super(self.__class__, self).image_reference(image_id)"
   ]
  },
  {
   "cell_type": "code",
   "execution_count": null,
   "metadata": {
    "id": "hUzmsqLokFSO"
   },
   "outputs": [],
   "source": [
    "def train(model):\n",
    "    \"\"\"Train the model.\"\"\"\n",
    "    # Training dataset.\n",
    "    dataset_train = CustomDataset()\n",
    "    dataset_train.load_custom(DATA_DIR, \"train\")\n",
    "    dataset_train.prepare()\n",
    "\n",
    "    # Validation dataset\n",
    "    dataset_val = CustomDataset()\n",
    "    dataset_val.load_custom(DATA_DIR, \"val\")\n",
    "    dataset_val.prepare()\n",
    "\n",
    "    # *** This training schedule is an example. Update to your needs ***\n",
    "    # Since we're using a very small dataset, and starting from\n",
    "    # COCO trained weights, we don't need to train too long. Also,\n",
    "    # no need to train all layers, just the heads should do it.\n",
    "    print(\"Training network heads\")\n",
    "    model.train(dataset_train, dataset_val,\n",
    "                learning_rate=config.LEARNING_RATE,\n",
    "                epochs=15,\n",
    "                layers='heads')"
   ]
  },
  {
   "cell_type": "code",
   "execution_count": null,
   "metadata": {
    "colab": {
     "base_uri": "https://localhost:8080/"
    },
    "id": "xX6xEg_IkNLz",
    "outputId": "1b26a4fe-7cb6-47d8-e677-11adc4375634"
   },
   "outputs": [],
   "source": [
    "config = CustomConfig()\n",
    "model = modellib.MaskRCNN(mode=\"training\", config=config,\n",
    "                          model_dir=DEFAULT_LOGS_DIR)"
   ]
  },
  {
   "cell_type": "code",
   "execution_count": null,
   "metadata": {
    "id": "kNCcGgm9msev"
   },
   "outputs": [],
   "source": [
    "weights_path = COCO_WEIGHTS_PATH\n",
    "\n",
    "# Download weights file\n",
    "if not os.path.exists(weights_path):\n",
    "  utils.download_trained_weights(weights_path)"
   ]
  },
  {
   "cell_type": "code",
   "execution_count": null,
   "metadata": {
    "colab": {
     "base_uri": "https://localhost:8080/"
    },
    "id": "C-Rt591wqIq1",
    "outputId": "b7d18540-a6d5-4fc1-b7ff-5526805c36f6"
   },
   "outputs": [],
   "source": [
    "model.load_weights(weights_path, by_name=True, exclude=[\n",
    "            \"mrcnn_class_logits\", \"mrcnn_bbox_fc\",\n",
    "            \"mrcnn_bbox\", \"mrcnn_mask\"])"
   ]
  },
  {
   "cell_type": "code",
   "execution_count": null,
   "metadata": {
    "colab": {
     "base_uri": "https://localhost:8080/"
    },
    "id": "7i7f9KCOueKi",
    "outputId": "b4a43a7e-1484-4b5f-a920-aeb6447b8530",
    "scrolled": false
   },
   "outputs": [],
   "source": [
    "# if error occurs restart runtime\n",
    "train(model)"
   ]
  },
  {
   "cell_type": "markdown",
   "metadata": {
    "id": "ER2OFIbzFrhw"
   },
   "source": [
    "# **TESTING**\n"
   ]
  },
  {
   "cell_type": "code",
   "execution_count": null,
   "metadata": {
    "id": "Sqi1GzS0_muj"
   },
   "outputs": [],
   "source": [
    "import os\n",
    "import sys\n",
    "import random\n",
    "import math\n",
    "import re\n",
    "import time\n",
    "import numpy as np\n",
    "import tensorflow as tf\n",
    "import matplotlib\n",
    "import matplotlib.pyplot as plt\n",
    "import matplotlib.patches as patches\n",
    "import matplotlib.image as mpimg\n",
    "\n",
    "ROOT_DIR = os.path.abspath(\"./\")\n",
    "DATA_DIR = os.path.abspath(\"./dataset/\")\n",
    "\n",
    "# Import Mask RCNN\n",
    "sys.path.append(ROOT_DIR)  # To find local version of the library\n",
    "from mrcnn import utils\n",
    "from mrcnn import visualize\n",
    "from mrcnn.visualize import display_images\n",
    "import mrcnn.model as modellib\n",
    "from mrcnn.model import log\n",
    "\n",
    "%matplotlib inline \n",
    "\n",
    "# Directory to save logs and trained model\n",
    "MODEL_DIR = os.path.join(ROOT_DIR, \"logs\")\n",
    "\n",
    "# Path to trained weights\n",
    "# You can download this file from the Releases page\n",
    "# https://github.com/matterport/Mask_RCNN/releases\n",
    "WEIGHTS_PATH = os.path.join(MODEL_DIR, \"object20211014T1653\\mask_rcnn_object_0015.h5\")  # TODO: update this path to your trained model"
   ]
  },
  {
   "cell_type": "code",
   "execution_count": null,
   "metadata": {
    "colab": {
     "base_uri": "https://localhost:8080/"
    },
    "id": "Z9ATL4H1GEXZ",
    "outputId": "fabefae2-936f-4037-f3c7-b8af58b119c9"
   },
   "outputs": [],
   "source": [
    "config = CustomConfig()\n",
    "\n",
    "class InferenceConfig(config.__class__):\n",
    "    # Run detection on one image at a time\n",
    "    GPU_COUNT = 1\n",
    "    IMAGES_PER_GPU = 1\n",
    "    DETECTION_MIN_CONFIDENCE = 0.7\n",
    "\n",
    "config = InferenceConfig()\n",
    "config.display()"
   ]
  },
  {
   "cell_type": "code",
   "execution_count": null,
   "metadata": {
    "id": "a-F9MUrCGO7_"
   },
   "outputs": [],
   "source": [
    "# Device to load the neural network on.\n",
    "# Useful if you're training a model on the same \n",
    "# machine, in which case use CPU and leave the\n",
    "# GPU for training.\n",
    "DEVICE = \"/gpu:0\"  # /cpu:0 or /gpu:0\n",
    "\n",
    "# Inspect the model in training or inference modes\n",
    "# values: 'inference' or 'training'\n",
    "# TODO: code for 'training' test mode not ready yet\n",
    "TEST_MODE = \"inference\""
   ]
  },
  {
   "cell_type": "code",
   "execution_count": null,
   "metadata": {
    "id": "tR1Vbd1aGje7"
   },
   "outputs": [],
   "source": [
    "def get_ax(rows=1, cols=1, size=16):\n",
    "    \"\"\"Return a Matplotlib Axes array to be used in\n",
    "    all visualizations in the notebook. Provide a\n",
    "    central point to control graph sizes.\n",
    "    \n",
    "    Adjust the size attribute to control how big to render images\n",
    "    \"\"\"\n",
    "    _, ax = plt.subplots(rows, cols, figsize=(size*cols, size*rows))\n",
    "    return ax"
   ]
  },
  {
   "cell_type": "code",
   "execution_count": null,
   "metadata": {
    "colab": {
     "base_uri": "https://localhost:8080/"
    },
    "id": "jSdKUXTJGnlo",
    "outputId": "8f784f8d-185d-4b41-932b-a51385b12a7c"
   },
   "outputs": [],
   "source": [
    "# Load validation dataset\n",
    "dataset = CustomDataset()\n",
    "dataset.load_custom(DATA_DIR, \"val\")\n",
    "\n",
    "# Must call before using the dataset\n",
    "dataset.prepare()\n",
    "\n",
    "print(\"Images: {}\\nClasses: {}\".format(len(dataset.image_ids), dataset.class_names))"
   ]
  },
  {
   "cell_type": "code",
   "execution_count": null,
   "metadata": {
    "colab": {
     "base_uri": "https://localhost:8080/"
    },
    "id": "jMnXZbrwGvia",
    "outputId": "a681be9e-6d3b-4e5c-8012-86f69dfac66c"
   },
   "outputs": [],
   "source": [
    "#LOAD MODEL\n",
    "# Create model in inference mode\n",
    "with tf.device(DEVICE):\n",
    "    model = modellib.MaskRCNN(mode=\"inference\", model_dir=MODEL_DIR,\n",
    "                              config=config)"
   ]
  },
  {
   "cell_type": "code",
   "execution_count": null,
   "metadata": {
    "colab": {
     "base_uri": "https://localhost:8080/"
    },
    "id": "_2EBlHj8G3-E",
    "outputId": "6c45f406-72f4-4a50-cf61-e97c31f0c871"
   },
   "outputs": [],
   "source": [
    "# Load weights\n",
    "print(\"Loading weights \", WEIGHTS_PATH)\n",
    "model.load_weights(WEIGHTS_PATH, by_name=True)"
   ]
  },
  {
   "cell_type": "code",
   "execution_count": null,
   "metadata": {
    "colab": {
     "base_uri": "https://localhost:8080/",
     "height": 1000
    },
    "id": "6w2AgocWHNQ5",
    "outputId": "4c1b1c3c-a956-44d8-86db-666afc60358d"
   },
   "outputs": [],
   "source": [
    "test_directory = DATA_DIR + '\\\\test\\\\'\n",
    "\n",
    "for file in os.listdir(test_directory):\n",
    "    if file.endswith('.jpg'):\n",
    "        print(test_directory + file)\n",
    "        image = mpimg.imread(test_directory + file)\n",
    "        print(len([image]))\n",
    "        results = model.detect([image], verbose=1)\n",
    "\n",
    "        # Display results\n",
    "        ax = get_ax(1)\n",
    "        r1 = results[0]\n",
    "        visualize.display_instances(image, r1['rois'], r1['masks'], r1['class_ids'],\n",
    "                                    dataset.class_names, r1['scores'], ax=ax,\n",
    "                                    title=\"Predictions: \" + test_directory + file)"
   ]
  },
  {
   "cell_type": "markdown",
   "metadata": {
    "id": "awaGgdIDVKLE"
   },
   "source": [
    "# Average Mean Precision"
   ]
  },
  {
   "cell_type": "code",
   "execution_count": null,
   "metadata": {},
   "outputs": [],
   "source": [
    "# Compute VOC-Style mAP @ IoU=0.5\n",
    "# Running on test images\n",
    "\n",
    "dataset_test = CustomDataset()\n",
    "dataset_test.load_custom(DATA_DIR, \"test\")\n",
    "dataset_test.prepare()\n",
    " \n",
    "image_ids = dataset_test.image_ids\n",
    "APs = []\n",
    "for image_id in image_ids:\n",
    "    # Load image and ground truth data\n",
    "    image, image_meta, gt_class_id, gt_bbox, gt_mask =\\\n",
    "        modellib.load_image_gt(dataset_test, config,\n",
    "                               image_id, use_mini_mask=False)\n",
    "    molded_images = np.expand_dims(modellib.mold_image(image, config), 0)\n",
    "    # Run object detection\n",
    "    results = model.detect([image], verbose=0)\n",
    "    r = results[0]\n",
    "    # Compute AP\n",
    "    AP, precisions, recalls, overlaps =\\\n",
    "        utils.compute_ap(gt_bbox, gt_class_id, gt_mask,\n",
    "                         r[\"rois\"], r[\"class_ids\"], r[\"scores\"], r['masks'])\n",
    "    APs.append(AP)\n",
    "    \n",
    "print(\"mAP: \", np.mean(APs))"
   ]
  },
  {
   "cell_type": "code",
   "execution_count": null,
   "metadata": {},
   "outputs": [],
   "source": [
    "# Compute VOC-Style mAP @ IoU=0.5\n",
    "# Running on val images\n",
    "\n",
    "dataset_val = CustomDataset()\n",
    "dataset_val.load_custom(DATA_DIR, \"val\")\n",
    "dataset_val.prepare()\n",
    "\n",
    "image_ids = dataset_val.image_ids\n",
    "APs = []\n",
    "for image_id in image_ids:\n",
    "    # Load image and ground truth data\n",
    "    image, image_meta, gt_class_id, gt_bbox, gt_mask =\\\n",
    "        modellib.load_image_gt(dataset_val, config,\n",
    "                               image_id, use_mini_mask=False)\n",
    "    molded_images = np.expand_dims(modellib.mold_image(image, config), 0)\n",
    "    # Run object detection\n",
    "    results = model.detect([image], verbose=0)\n",
    "    r = results[0]\n",
    "    # Compute AP\n",
    "    AP, precisions, recalls, overlaps =\\\n",
    "        utils.compute_ap(gt_bbox, gt_class_id, gt_mask,\n",
    "                         r[\"rois\"], r[\"class_ids\"], r[\"scores\"], r['masks'])\n",
    "    APs.append(AP)\n",
    "    \n",
    "print(\"mAP: \", np.mean(APs))"
   ]
  },
  {
   "cell_type": "code",
   "execution_count": null,
   "metadata": {},
   "outputs": [],
   "source": []
  }
 ],
 "metadata": {
  "accelerator": "GPU",
  "colab": {
   "collapsed_sections": [],
   "name": "MaskRCNN.ipynb",
   "provenance": []
  },
  "kernelspec": {
   "display_name": "Python 3",
   "language": "python",
   "name": "python3"
  },
  "language_info": {
   "codemirror_mode": {
    "name": "ipython",
    "version": 3
   },
   "file_extension": ".py",
   "mimetype": "text/x-python",
   "name": "python",
   "nbconvert_exporter": "python",
   "pygments_lexer": "ipython3",
   "version": "3.8.2"
  }
 },
 "nbformat": 4,
 "nbformat_minor": 1
}
